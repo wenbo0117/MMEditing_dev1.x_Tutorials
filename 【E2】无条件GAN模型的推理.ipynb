{
 "cells": [
  {
   "cell_type": "markdown",
   "id": "a1de8687-609d-4534-ac26-d108e1e3c6bd",
   "metadata": {},
   "source": [
    "## 进入 MMEditing 主目录"
   ]
  },
  {
   "cell_type": "code",
   "execution_count": 3,
   "id": "0ff2f419-09e1-4029-85d8-ffd648d3679f",
   "metadata": {
    "tags": []
   },
   "outputs": [
    {
     "data": {
      "text/plain": [
       "['.git',\n",
       " '.circleci',\n",
       " '.dele.yml',\n",
       " '.dev_scripts',\n",
       " '.github',\n",
       " '.gitignore',\n",
       " '.owners.yml',\n",
       " '.pre-commit-config.yaml',\n",
       " '.pylintrc',\n",
       " '.readthedocs.yml',\n",
       " 'CITATION.cff',\n",
       " 'LICENSE',\n",
       " 'MANIFEST.in',\n",
       " 'README.md',\n",
       " 'README_zh-CN.md',\n",
       " 'configs',\n",
       " 'demo',\n",
       " 'docker',\n",
       " 'docs',\n",
       " 'mmedit',\n",
       " 'model-index.yml',\n",
       " 'projects',\n",
       " 'requirements.txt',\n",
       " 'requirements',\n",
       " 'setup.cfg',\n",
       " 'setup.py',\n",
       " 'tests',\n",
       " 'tools',\n",
       " 'mmedit.egg-info',\n",
       " 'outputs',\n",
       " 'data',\n",
       " 'checkpoints',\n",
       " 'work_dirs',\n",
       " 'indexnet_mobv2_1x16_78k_comp1k_SAD-45.6_20200618_173817-26dd258d.pth',\n",
       " 'resources']"
      ]
     },
     "execution_count": 3,
     "metadata": {},
     "output_type": "execute_result"
    }
   ],
   "source": [
    "import os\n",
    "os.chdir('mmediting')\n",
    "os.listdir()"
   ]
  },
  {
   "cell_type": "markdown",
   "id": "d5f710d5-952c-4182-8f87-a6fc37c24263",
   "metadata": {},
   "source": [
    "无条件GAN模型不需要输入，输出一个图像。\n",
    "我们以‘styleganv1’为例。"
   ]
  },
  {
   "cell_type": "code",
   "execution_count": null,
   "id": "34629521-7c3a-4492-8cd8-3b7f8e962175",
   "metadata": {},
   "outputs": [],
   "source": [
    "import mmcv\n",
    "import matplotlib.pyplot as plt \n",
    "from mmedit.edit import MMEdit\n",
    "\n",
    "# 创建一个MMEdit实例并推断\n",
    "result_out_dir = 'resources/output/unconditional/tutorial_unconditional_styleganv1_res.png'\n",
    "editor = MMEdit('styleganv1')\n",
    "results = editor.infer(result_out_dir=result_out_dir)\n",
    "\n",
    "# 绘制结果图像\n",
    "img = mmcv.imread(result_out_dir)\n",
    "plt.imshow(mmcv.bgr2rgb(img))\n",
    "plt.show()"
   ]
  },
  {
   "cell_type": "markdown",
   "id": "08a102ba-38ed-4014-9f9d-6356397cce23",
   "metadata": {},
   "source": [
    "## 视频插值模型的推断"
   ]
  },
  {
   "cell_type": "markdown",
   "id": "68eee914-1235-48d1-b9ca-f771f25beec8",
   "metadata": {},
   "source": [
    "视频插值模型将视频作为输入，并输出插值后的视频。\n",
    "我们以‘flavr’为例。"
   ]
  },
  {
   "cell_type": "code",
   "execution_count": null,
   "id": "54e92206-7dce-4f5c-a61c-4eb5a40b49c4",
   "metadata": {
    "tags": []
   },
   "outputs": [],
   "source": [
    "import os\n",
    "from mmedit.edit import MMEdit\n",
    "from mmengine import mkdir_or_exist\n",
    "\n",
    "# 创建一个MMEdit实例并推断\n",
    "video = 'resources/input/video_interpolation/b-3LLDhc4EU_000000_000010.mp4'\n",
    "result_out_dir = 'resources/output/video_interpolation/tutorial_video_interpolation_flavr_res.mp4'\n",
    "mkdir_or_exist(os.path.dirname(result_out_dir))\n",
    "editor = MMEdit('flavr')\n",
    "results = editor.infer(video=video, result_out_dir=result_out_dir)"
   ]
  },
  {
   "cell_type": "markdown",
   "id": "0e435231-f93d-447f-a87f-11888b46965a",
   "metadata": {},
   "source": [
    "## 视频恢复模型的推理"
   ]
  },
  {
   "cell_type": "markdown",
   "id": "da0f83a7-a756-44c5-aeca-21bbb7eda8ce",
   "metadata": {},
   "source": [
    "视频恢复模型将视频作为输入，并输出恢复的视频。我们以“basicvsr”为例."
   ]
  },
  {
   "cell_type": "code",
   "execution_count": null,
   "id": "841846c7-60bc-47a0-b092-96ed988c033e",
   "metadata": {
    "tags": []
   },
   "outputs": [],
   "source": [
    "import os\n",
    "from mmedit.edit import MMEdit\n",
    "from mmengine import mkdir_or_exist\n",
    "\n",
    "# 创建一个MMEdit实例并推断\n",
    "video = 'resources/input/video_restoration/QUuC4vJs_000084_000094_400x320.mp4'\n",
    "result_out_dir = 'resources/output/video_restoration/tutorial_video_restoration_edvr_res.mp4'\n",
    "mkdir_or_exist(os.path.dirname(result_out_dir))\n",
    "editor = MMEdit('edvr', extra_parameters={'window_size':5})\n",
    "results = editor.infer(video=video, result_out_dir=result_out_dir)"
   ]
  },
  {
   "cell_type": "markdown",
   "id": "a96b8a99-b764-402b-9575-83ac6d553cc5",
   "metadata": {},
   "source": [
    "## 文本到图像模型的推理"
   ]
  },
  {
   "cell_type": "markdown",
   "id": "010f750c-e1c2-4648-82d8-3ffa4da98fbf",
   "metadata": {},
   "source": [
    "文本到图像模型将文本作为输入，并输出图像。\n",
    "我们以“disco”为例。"
   ]
  },
  {
   "cell_type": "code",
   "execution_count": null,
   "id": "003eb6d2-9f6d-434d-93d1-447de8f6e58d",
   "metadata": {},
   "outputs": [],
   "source": [
    "import mmcv\n",
    "import matplotlib.pyplot as plt \n",
    "from mmedit.edit import MMEdit\n",
    "from mmengine import mkdir_or_exist\n",
    "\n",
    "# 创建一个MMEdit实例并推断\n",
    "editor = MMEdit(model_name='disco')\n",
    "text_prompts = {\n",
    "    0: [\n",
    "        'clouds surround the mountains and Chinese palaces,sunshine,lake,overlook,overlook,unreal engine,light effect,Dream，Greg Rutkowski,James Gurney,artstation'\n",
    "    ]\n",
    "}\n",
    "result_out_dir = 'resources/output/text2image/tutorial_text2image_disco_res.png'\n",
    "editor.infer(text=text_prompts, result_out_dir=result_out_dir)\n",
    "\n",
    "# 绘制结果图像\n",
    "img = mmcv.imread(result_out_dir)\n",
    "plt.imshow(mmcv.bgr2rgb(img))\n",
    "plt.show()"
   ]
  },
  {
   "cell_type": "code",
   "execution_count": null,
   "id": "8f34f890-3557-43c5-be03-ac8cfb4117a6",
   "metadata": {},
   "outputs": [],
   "source": []
  }
 ],
 "metadata": {
  "kernelspec": {
   "display_name": "Python 3 (ipykernel)",
   "language": "python",
   "name": "python3"
  },
  "language_info": {
   "codemirror_mode": {
    "name": "ipython",
    "version": 3
   },
   "file_extension": ".py",
   "mimetype": "text/x-python",
   "name": "python",
   "nbconvert_exporter": "python",
   "pygments_lexer": "ipython3",
   "version": "3.7.10"
  }
 },
 "nbformat": 4,
 "nbformat_minor": 5
}
