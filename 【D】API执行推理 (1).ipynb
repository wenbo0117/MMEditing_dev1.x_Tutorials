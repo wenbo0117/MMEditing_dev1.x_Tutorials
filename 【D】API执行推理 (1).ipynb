{
 "cells": [
  {
   "cell_type": "markdown",
   "id": "90811191-2ba2-4f22-9f16-d2df9f948693",
   "metadata": {},
   "source": [
    "## 进入 MMEditing 主目录"
   ]
  },
  {
   "cell_type": "code",
   "execution_count": 2,
   "id": "55c01588-3f2c-4334-8378-244311c17e1d",
   "metadata": {},
   "outputs": [
    {
     "data": {
      "text/plain": [
       "['.git',\n",
       " '.circleci',\n",
       " '.dele.yml',\n",
       " '.dev_scripts',\n",
       " '.github',\n",
       " '.gitignore',\n",
       " '.owners.yml',\n",
       " '.pre-commit-config.yaml',\n",
       " '.pylintrc',\n",
       " '.readthedocs.yml',\n",
       " 'CITATION.cff',\n",
       " 'LICENSE',\n",
       " 'MANIFEST.in',\n",
       " 'README.md',\n",
       " 'README_zh-CN.md',\n",
       " 'configs',\n",
       " 'demo',\n",
       " 'docker',\n",
       " 'docs',\n",
       " 'mmedit',\n",
       " 'model-index.yml',\n",
       " 'projects',\n",
       " 'requirements.txt',\n",
       " 'requirements',\n",
       " 'setup.cfg',\n",
       " 'setup.py',\n",
       " 'tests',\n",
       " 'tools',\n",
       " 'mmedit.egg-info',\n",
       " 'outputs',\n",
       " 'data',\n",
       " 'checkpoints',\n",
       " 'work_dirs',\n",
       " 'indexnet_mobv2_1x16_78k_comp1k_SAD-45.6_20200618_173817-26dd258d.pth',\n",
       " 'indexnet_mobv2_1x16_78k_comp1k_SAD-45.6_20200618_173817-26dd258d.pth.1',\n",
       " 'indexnet_mobv2_1x16_78k_comp1k_SAD-45.6_20200618_173817-26dd258d.pth.2']"
      ]
     },
     "execution_count": 2,
     "metadata": {},
     "output_type": "execute_result"
    }
   ],
   "source": [
    "import os\n",
    "os.chdir('mmediting')\n",
    "os.listdir()"
   ]
  },
  {
   "cell_type": "markdown",
   "id": "cf95f7b7-21de-4ad0-a9e4-67b283f472f8",
   "metadata": {},
   "source": [
    "## 检查推理支持的任务和模型"
   ]
  },
  {
   "cell_type": "markdown",
   "id": "92752a0a-9707-49e1-8b74-6b31cdf544de",
   "metadata": {},
   "source": [
    "在编辑中有多种任务类型:抠图、修补、视频超分辨率、图像超分辨率、图像转图像、无条件GANs、有条件GANs、视频插帧。\n",
    "\n",
    "我们为每个任务提供了一些模型。所有可用的模型和任务都可以打印出来。"
   ]
  },
  {
   "cell_type": "code",
   "execution_count": 20,
   "id": "68312d88-3b9c-4015-84e0-d185cf9ab7d9",
   "metadata": {},
   "outputs": [
    {
     "name": "stdout",
     "output_type": "stream",
     "text": [
      "all supported models:\n",
      "['biggan', 'styleganv1', 'gca', 'global_local', 'aot_gan', 'pix2pix', 'esrgan', 'flavr', 'cain', 'edvr', 'disco_diffusion', 'eg3d']\n",
      "all supported tasks:\n",
      "['Image2Image', 'Text2Image, Image2Image, diffusion', '3D-aware Generation', 'Matting', 'Conditional GANs', 'Video Interpolation', 'Video Super-Resolution', 'Inpainting', 'Unconditional GANs', 'Image Super-Resolution']\n",
      "translation models:\n",
      "['pix2pix']\n"
     ]
    }
   ],
   "source": [
    "from mmedit.edit import MMEdit\n",
    "\n",
    "# print all supported models for inference.\n",
    "inference_supported_models = MMEdit.get_inference_supported_models()\n",
    "print('all supported models:')\n",
    "print(inference_supported_models)\n",
    "\n",
    "# print all supported tasks for inference.\n",
    "supported_tasks = MMEdit.get_inference_supported_tasks()\n",
    "print('all supported tasks:')\n",
    "print(supported_tasks)\n",
    "\n",
    "# print all supported models for one task, take image translation for example.\n",
    "task_supported_models = MMEdit.get_task_supported_models('Image2Image')\n",
    "print('translation models:')\n",
    "print(task_supported_models)"
   ]
  },
  {
   "cell_type": "markdown",
   "id": "37c0be41-7fe8-44bd-93d2-c58963edb729",
   "metadata": {},
   "source": [
    "## 下载图片和视频"
   ]
  },
  {
   "cell_type": "code",
   "execution_count": 8,
   "id": "7a43ef50-5f27-448c-b7d1-0b9d6658ffe2",
   "metadata": {},
   "outputs": [],
   "source": [
    "# 创建存放素材的文件夹\n",
    "!mkdir -p ./resources/input/translation\n",
    "!mkdir -p ./resources/output/translation"
   ]
  },
  {
   "cell_type": "code",
   "execution_count": 19,
   "id": "e79337e2-1231-4048-a207-260ea30d01d8",
   "metadata": {},
   "outputs": [
    {
     "name": "stdout",
     "output_type": "stream",
     "text": [
      "all inference resources:\n",
      "Matting\n",
      "https://download.openmmlab.com/mmediting/resources/input/matting/GT05.jpg\n",
      "https://download.openmmlab.com/mmediting/resources/input/matting/GT05_trimap.jpg\n",
      "https://download.openmmlab.com/mmediting/resources/input/matting/readme.md\n",
      "Inpainting\n",
      "https://download.openmmlab.com/mmediting/resources/input/inpainting/bbox_mask.png\n",
      "https://download.openmmlab.com/mmediting/resources/input/inpainting/celeba_test.png\n",
      "https://download.openmmlab.com/mmediting/resources/input/inpainting/readme.md\n",
      "Image Super-Resolution\n",
      "https://download.openmmlab.com/mmediting/resources/input/restoration/000001.png\n",
      "https://download.openmmlab.com/mmediting/resources/input/restoration/0901x2.png\n",
      "https://download.openmmlab.com/mmediting/resources/input/restoration/readme.md\n",
      "Image2Image Translation\n",
      "https://download.openmmlab.com/mmediting/resources/input/translation/gt_mask_0.png\n",
      "https://download.openmmlab.com/mmediting/resources/input/translation/readme.md\n",
      "Video Interpolation\n",
      "https://download.openmmlab.com/mmediting/resources/input/video_interpolation/b-3LLDhc4EU_000000_000010.mp4\n",
      "https://download.openmmlab.com/mmediting/resources/input/video_interpolation/readme.md\n",
      "Video Super-Resolution\n",
      "https://download.openmmlab.com/mmediting/resources/input/video_restoration/QUuC4vJs_000084_000094_400x320.mp4\n",
      "https://download.openmmlab.com/mmediting/resources/input/video_restoration/readme.md\n",
      "https://download.openmmlab.com/mmediting/resources/input/video_restoration/v_Basketball_g01_c01.avi\n",
      "all task type:\n",
      "Matting\n",
      "Inpainting\n",
      "Image Super-Resolution\n",
      "Image2Image Translation\n",
      "Video Interpolation\n",
      "Video Super-Resolution\n",
      "RESOURCES of task Inpainting:\n",
      "https://download.openmmlab.com/mmediting/resources/input/inpainting/bbox_mask.png\n",
      "https://download.openmmlab.com/mmediting/resources/input/inpainting/celeba_test.png\n",
      "https://download.openmmlab.com/mmediting/resources/input/inpainting/readme.md\n",
      "Download finished: https://download.openmmlab.com/mmediting/resources/input/matting/GT05.jpg to demo/../resources/input/matting/GT05.jpg\n",
      "Download finished: https://download.openmmlab.com/mmediting/resources/input/matting/GT05_trimap.jpg to demo/../resources/input/matting/GT05_trimap.jpg\n",
      "Download finished: https://download.openmmlab.com/mmediting/resources/input/matting/readme.md to demo/../resources/input/matting/readme.md\n",
      "Download finished: https://download.openmmlab.com/mmediting/resources/input/inpainting/bbox_mask.png to demo/../resources/input/inpainting/bbox_mask.png\n",
      "Download finished: https://download.openmmlab.com/mmediting/resources/input/inpainting/celeba_test.png to demo/../resources/input/inpainting/celeba_test.png\n",
      "Download finished: https://download.openmmlab.com/mmediting/resources/input/inpainting/readme.md to demo/../resources/input/inpainting/readme.md\n",
      "Download finished: https://download.openmmlab.com/mmediting/resources/input/restoration/000001.png to demo/../resources/input/restoration/000001.png\n",
      "Download finished: https://download.openmmlab.com/mmediting/resources/input/restoration/0901x2.png to demo/../resources/input/restoration/0901x2.png\n",
      "Download finished: https://download.openmmlab.com/mmediting/resources/input/restoration/readme.md to demo/../resources/input/restoration/readme.md\n",
      "Download finished: https://download.openmmlab.com/mmediting/resources/input/translation/gt_mask_0.png to demo/../resources/input/translation/gt_mask_0.png\n",
      "Download finished: https://download.openmmlab.com/mmediting/resources/input/translation/readme.md to demo/../resources/input/translation/readme.md\n",
      "Download finished: https://download.openmmlab.com/mmediting/resources/input/video_interpolation/b-3LLDhc4EU_000000_000010.mp4 to demo/../resources/input/video_interpolation/b-3LLDhc4EU_000000_000010.mp4\n",
      "Download finished: https://download.openmmlab.com/mmediting/resources/input/video_interpolation/readme.md to demo/../resources/input/video_interpolation/readme.md\n",
      "Download finished: https://download.openmmlab.com/mmediting/resources/input/video_restoration/QUuC4vJs_000084_000094_400x320.mp4 to demo/../resources/input/video_restoration/QUuC4vJs_000084_000094_400x320.mp4\n",
      "Download finished: https://download.openmmlab.com/mmediting/resources/input/video_restoration/readme.md to demo/../resources/input/video_restoration/readme.md\n",
      "Download finished: https://download.openmmlab.com/mmediting/resources/input/video_restoration/v_Basketball_g01_c01.avi to demo/../resources/input/video_restoration/v_Basketball_g01_c01.avi\n",
      "Download finished: https://download.openmmlab.com/mmediting/resources/input/inpainting/bbox_mask.png to demo/../resources/input/inpainting/bbox_mask.png\n",
      "Download finished: https://download.openmmlab.com/mmediting/resources/input/inpainting/celeba_test.png to demo/../resources/input/inpainting/celeba_test.png\n",
      "Download finished: https://download.openmmlab.com/mmediting/resources/input/inpainting/readme.md to demo/../resources/input/inpainting/readme.md\n",
      "Download finished: https://download.openmmlab.com/mmediting/resources/input/matting/GT05.jpg to demo/resources/input/matting/GT05.jpg\n",
      "Download finished: https://download.openmmlab.com/mmediting/resources/input/matting/GT05_trimap.jpg to demo/resources/input/matting/GT05_trimap.jpg\n",
      "Download finished: https://download.openmmlab.com/mmediting/resources/input/matting/readme.md to demo/resources/input/matting/readme.md\n",
      "Download finished: https://download.openmmlab.com/mmediting/resources/input/inpainting/bbox_mask.png to demo/resources/input/inpainting/bbox_mask.png\n",
      "Download finished: https://download.openmmlab.com/mmediting/resources/input/inpainting/celeba_test.png to demo/resources/input/inpainting/celeba_test.png\n",
      "Download finished: https://download.openmmlab.com/mmediting/resources/input/inpainting/readme.md to demo/resources/input/inpainting/readme.md\n",
      "Download finished: https://download.openmmlab.com/mmediting/resources/input/restoration/000001.png to demo/resources/input/restoration/000001.png\n",
      "Download finished: https://download.openmmlab.com/mmediting/resources/input/restoration/0901x2.png to demo/resources/input/restoration/0901x2.png\n",
      "Download finished: https://download.openmmlab.com/mmediting/resources/input/restoration/readme.md to demo/resources/input/restoration/readme.md\n",
      "Download finished: https://download.openmmlab.com/mmediting/resources/input/translation/gt_mask_0.png to demo/resources/input/translation/gt_mask_0.png\n",
      "Download finished: https://download.openmmlab.com/mmediting/resources/input/translation/readme.md to demo/resources/input/translation/readme.md\n",
      "Download finished: https://download.openmmlab.com/mmediting/resources/input/video_interpolation/b-3LLDhc4EU_000000_000010.mp4 to demo/resources/input/video_interpolation/b-3LLDhc4EU_000000_000010.mp4\n",
      "Download finished: https://download.openmmlab.com/mmediting/resources/input/video_interpolation/readme.md to demo/resources/input/video_interpolation/readme.md\n",
      "Download finished: https://download.openmmlab.com/mmediting/resources/input/video_restoration/QUuC4vJs_000084_000094_400x320.mp4 to demo/resources/input/video_restoration/QUuC4vJs_000084_000094_400x320.mp4\n",
      "Download finished: https://download.openmmlab.com/mmediting/resources/input/video_restoration/readme.md to demo/resources/input/video_restoration/readme.md\n",
      "Download finished: https://download.openmmlab.com/mmediting/resources/input/video_restoration/v_Basketball_g01_c01.avi to demo/resources/input/video_restoration/v_Basketball_g01_c01.avi\n"
     ]
    }
   ],
   "source": [
    "# 查看所有资源\n",
    "!python demo/download_inference_resources.py --print-all\n",
    "# 查看所有任务类型\n",
    "!python demo/download_inference_resources.py --print-task-type\n",
    "# 查看特定任务的资源\n",
    "!python demo/download_inference_resources.py --print-task 'Inpainting'\n",
    "# 将所有资源下载到默认目录'../resources'\n",
    "!python demo/download_inference_resources.py\n",
    "# 下载一个任务的资源\n",
    "!python demo/download_inference_resources.py --task 'Inpainting'\n",
    "# 下载到您想要的目录\n",
    "!python demo/download_inference_resources.py --root-dir 'resources'"
   ]
  },
  {
   "cell_type": "markdown",
   "id": "87c29c74-6ae2-4136-99a8-1ca3ae1e2877",
   "metadata": {},
   "source": [
    "用两行python代码进行推理。 \n",
    "有两个步骤: 首先，通过预先训练的模型名称创建一个MMEdit实例。\n",
    "第二，用这个MMEdit实例推断自己的图片。转换后的图像将保存到result_out_dir。"
   ]
  },
  {
   "cell_type": "code",
   "execution_count": 18,
   "id": "6a1560d5-be87-4d8f-adfa-f0420e472cb0",
   "metadata": {},
   "outputs": [
    {
     "ename": "ValueError",
     "evalue": "Unknown inferencer task: Image2Image",
     "output_type": "error",
     "traceback": [
      "\u001b[0;31m---------------------------------------------------------------------------\u001b[0m",
      "\u001b[0;31mValueError\u001b[0m                                Traceback (most recent call last)",
      "\u001b[0;32m/tmp/ipykernel_2897/34827700.py\u001b[0m in \u001b[0;36m<module>\u001b[0;34m\u001b[0m\n\u001b[1;32m      2\u001b[0m \u001b[0;34m\u001b[0m\u001b[0m\n\u001b[1;32m      3\u001b[0m \u001b[0;31m# 创建一个MMEdit实例\u001b[0m\u001b[0;34m\u001b[0m\u001b[0;34m\u001b[0m\u001b[0;34m\u001b[0m\u001b[0m\n\u001b[0;32m----> 4\u001b[0;31m \u001b[0meditor\u001b[0m \u001b[0;34m=\u001b[0m \u001b[0mMMEdit\u001b[0m\u001b[0;34m(\u001b[0m\u001b[0;34m'pix2pix'\u001b[0m\u001b[0;34m)\u001b[0m\u001b[0;34m\u001b[0m\u001b[0;34m\u001b[0m\u001b[0m\n\u001b[0m\u001b[1;32m      5\u001b[0m \u001b[0;31m# 推断图像。需要输入图像路径和输出图像路径。\u001b[0m\u001b[0;34m\u001b[0m\u001b[0;34m\u001b[0m\u001b[0;34m\u001b[0m\u001b[0m\n\u001b[1;32m      6\u001b[0m \u001b[0mresults\u001b[0m \u001b[0;34m=\u001b[0m \u001b[0meditor\u001b[0m\u001b[0;34m.\u001b[0m\u001b[0minfer\u001b[0m\u001b[0;34m(\u001b[0m\u001b[0mimg\u001b[0m\u001b[0;34m=\u001b[0m\u001b[0;34m'./resources/input/translation/gt_mask_0.png'\u001b[0m\u001b[0;34m,\u001b[0m \u001b[0mresult_out_dir\u001b[0m\u001b[0;34m=\u001b[0m\u001b[0;34m'./resources/output/translation/tutorial_translation_pix2pix_res.jpg'\u001b[0m\u001b[0;34m)\u001b[0m\u001b[0;34m\u001b[0m\u001b[0;34m\u001b[0m\u001b[0m\n",
      "\u001b[0;32m~/work/2/mmediting/mmedit/edit.py\u001b[0m in \u001b[0;36m__init__\u001b[0;34m(self, model_name, model_setting, model_config, model_ckpt, device, extra_parameters, seed, **kwargs)\u001b[0m\n\u001b[1;32m     93\u001b[0m                                         extra_parameters))\n\u001b[1;32m     94\u001b[0m         self.inferencer = MMEditInferencer(\n\u001b[0;32m---> 95\u001b[0;31m             device=device, seed=seed, **inferencer_kwargs)\n\u001b[0m\u001b[1;32m     96\u001b[0m \u001b[0;34m\u001b[0m\u001b[0m\n\u001b[1;32m     97\u001b[0m     def _get_inferencer_kwargs(self, model_name: Optional[str],\n",
      "\u001b[0;32m~/work/2/mmediting/mmedit/apis/inferencers/mmedit_inferencer.py\u001b[0m in \u001b[0;36m__init__\u001b[0;34m(self, task, config, ckpt, device, extra_parameters, seed)\u001b[0m\n\u001b[1;32m     69\u001b[0m                 config, ckpt, device, extra_parameters, seed=seed)\n\u001b[1;32m     70\u001b[0m         \u001b[0;32melse\u001b[0m\u001b[0;34m:\u001b[0m\u001b[0;34m\u001b[0m\u001b[0;34m\u001b[0m\u001b[0m\n\u001b[0;32m---> 71\u001b[0;31m             \u001b[0;32mraise\u001b[0m \u001b[0mValueError\u001b[0m\u001b[0;34m(\u001b[0m\u001b[0;34mf'Unknown inferencer task: {self.task}'\u001b[0m\u001b[0;34m)\u001b[0m\u001b[0;34m\u001b[0m\u001b[0;34m\u001b[0m\u001b[0m\n\u001b[0m\u001b[1;32m     72\u001b[0m \u001b[0;34m\u001b[0m\u001b[0m\n\u001b[1;32m     73\u001b[0m     \u001b[0;32mdef\u001b[0m \u001b[0m__call__\u001b[0m\u001b[0;34m(\u001b[0m\u001b[0mself\u001b[0m\u001b[0;34m,\u001b[0m \u001b[0;34m**\u001b[0m\u001b[0mkwargs\u001b[0m\u001b[0;34m)\u001b[0m \u001b[0;34m->\u001b[0m \u001b[0mUnion\u001b[0m\u001b[0;34m[\u001b[0m\u001b[0mDict\u001b[0m\u001b[0;34m,\u001b[0m \u001b[0mList\u001b[0m\u001b[0;34m[\u001b[0m\u001b[0mDict\u001b[0m\u001b[0;34m]\u001b[0m\u001b[0;34m]\u001b[0m\u001b[0;34m:\u001b[0m\u001b[0;34m\u001b[0m\u001b[0;34m\u001b[0m\u001b[0m\n",
      "\u001b[0;31mValueError\u001b[0m: Unknown inferencer task: Image2Image"
     ]
    }
   ],
   "source": [
    "from mmedit.edit import MMEdit\n",
    "\n",
    "# 创建一个MMEdit实例\n",
    "editor = MMEdit('pix2pix')\n",
    "# 推断图像。需要输入图像路径和输出图像路径。\n",
    "results = editor.infer(img='resources/input/translation/gt_mask_0.png', result_out_dir='resources/output/translation/tutorial_translation_pix2pix_res.jpg')"
   ]
  },
  {
   "cell_type": "code",
   "execution_count": 15,
   "id": "e5240c67-de28-48b0-a765-2154f0f2aa99",
   "metadata": {},
   "outputs": [
    {
     "ename": "FileNotFoundError",
     "evalue": "[Errno 2] No such file or directory: 'resources/output/translation/tutorial_translation_pix2pix_res.jpg'",
     "output_type": "error",
     "traceback": [
      "\u001b[0;31m---------------------------------------------------------------------------\u001b[0m",
      "\u001b[0;31mFileNotFoundError\u001b[0m                         Traceback (most recent call last)",
      "\u001b[0;32m/tmp/ipykernel_2897/1874984373.py\u001b[0m in \u001b[0;36m<module>\u001b[0;34m\u001b[0m\n\u001b[1;32m      2\u001b[0m \u001b[0;32mimport\u001b[0m \u001b[0mmmcv\u001b[0m\u001b[0;34m\u001b[0m\u001b[0;34m\u001b[0m\u001b[0m\n\u001b[1;32m      3\u001b[0m \u001b[0;32mimport\u001b[0m \u001b[0mmatplotlib\u001b[0m\u001b[0;34m.\u001b[0m\u001b[0mpyplot\u001b[0m \u001b[0;32mas\u001b[0m \u001b[0mplt\u001b[0m\u001b[0;34m\u001b[0m\u001b[0;34m\u001b[0m\u001b[0m\n\u001b[0;32m----> 4\u001b[0;31m \u001b[0mimg\u001b[0m \u001b[0;34m=\u001b[0m \u001b[0mmmcv\u001b[0m\u001b[0;34m.\u001b[0m\u001b[0mimread\u001b[0m\u001b[0;34m(\u001b[0m\u001b[0;34m'resources/output/translation/tutorial_translation_pix2pix_res.jpg'\u001b[0m\u001b[0;34m)\u001b[0m\u001b[0;34m\u001b[0m\u001b[0;34m\u001b[0m\u001b[0m\n\u001b[0m\u001b[1;32m      5\u001b[0m \u001b[0mplt\u001b[0m\u001b[0;34m.\u001b[0m\u001b[0mimshow\u001b[0m\u001b[0;34m(\u001b[0m\u001b[0mmmcv\u001b[0m\u001b[0;34m.\u001b[0m\u001b[0mbgr2rgb\u001b[0m\u001b[0;34m(\u001b[0m\u001b[0mimg\u001b[0m\u001b[0;34m)\u001b[0m\u001b[0;34m)\u001b[0m\u001b[0;34m\u001b[0m\u001b[0;34m\u001b[0m\u001b[0m\n\u001b[1;32m      6\u001b[0m \u001b[0mplt\u001b[0m\u001b[0;34m.\u001b[0m\u001b[0mshow\u001b[0m\u001b[0;34m(\u001b[0m\u001b[0;34m)\u001b[0m\u001b[0;34m\u001b[0m\u001b[0;34m\u001b[0m\u001b[0m\n",
      "\u001b[0;32m/environment/miniconda3/lib/python3.7/site-packages/mmcv/image/io.py\u001b[0m in \u001b[0;36mimread\u001b[0;34m(img_or_path, flag, channel_order, backend, file_client_args, backend_args)\u001b[0m\n\u001b[1;32m    223\u001b[0m             \u001b[0mimg_bytes\u001b[0m \u001b[0;34m=\u001b[0m \u001b[0mfile_client\u001b[0m\u001b[0;34m.\u001b[0m\u001b[0mget\u001b[0m\u001b[0;34m(\u001b[0m\u001b[0mimg_or_path\u001b[0m\u001b[0;34m)\u001b[0m\u001b[0;34m\u001b[0m\u001b[0;34m\u001b[0m\u001b[0m\n\u001b[1;32m    224\u001b[0m         \u001b[0;32melse\u001b[0m\u001b[0;34m:\u001b[0m\u001b[0;34m\u001b[0m\u001b[0;34m\u001b[0m\u001b[0m\n\u001b[0;32m--> 225\u001b[0;31m             \u001b[0mimg_bytes\u001b[0m \u001b[0;34m=\u001b[0m \u001b[0mfileio\u001b[0m\u001b[0;34m.\u001b[0m\u001b[0mget\u001b[0m\u001b[0;34m(\u001b[0m\u001b[0mimg_or_path\u001b[0m\u001b[0;34m,\u001b[0m \u001b[0mbackend_args\u001b[0m\u001b[0;34m=\u001b[0m\u001b[0mbackend_args\u001b[0m\u001b[0;34m)\u001b[0m\u001b[0;34m\u001b[0m\u001b[0;34m\u001b[0m\u001b[0m\n\u001b[0m\u001b[1;32m    226\u001b[0m         \u001b[0;32mreturn\u001b[0m \u001b[0mimfrombytes\u001b[0m\u001b[0;34m(\u001b[0m\u001b[0mimg_bytes\u001b[0m\u001b[0;34m,\u001b[0m \u001b[0mflag\u001b[0m\u001b[0;34m,\u001b[0m \u001b[0mchannel_order\u001b[0m\u001b[0;34m,\u001b[0m \u001b[0mbackend\u001b[0m\u001b[0;34m)\u001b[0m\u001b[0;34m\u001b[0m\u001b[0;34m\u001b[0m\u001b[0m\n\u001b[1;32m    227\u001b[0m     \u001b[0;32melse\u001b[0m\u001b[0;34m:\u001b[0m\u001b[0;34m\u001b[0m\u001b[0;34m\u001b[0m\u001b[0m\n",
      "\u001b[0;32m/environment/miniconda3/lib/python3.7/site-packages/mmengine/fileio/io.py\u001b[0m in \u001b[0;36mget\u001b[0;34m(filepath, backend_args)\u001b[0m\n\u001b[1;32m    177\u001b[0m     backend = get_file_backend(\n\u001b[1;32m    178\u001b[0m         filepath, backend_args=backend_args, enable_singleton=True)\n\u001b[0;32m--> 179\u001b[0;31m     \u001b[0;32mreturn\u001b[0m \u001b[0mbackend\u001b[0m\u001b[0;34m.\u001b[0m\u001b[0mget\u001b[0m\u001b[0;34m(\u001b[0m\u001b[0mfilepath\u001b[0m\u001b[0;34m)\u001b[0m\u001b[0;34m\u001b[0m\u001b[0;34m\u001b[0m\u001b[0m\n\u001b[0m\u001b[1;32m    180\u001b[0m \u001b[0;34m\u001b[0m\u001b[0m\n\u001b[1;32m    181\u001b[0m \u001b[0;34m\u001b[0m\u001b[0m\n",
      "\u001b[0;32m/environment/miniconda3/lib/python3.7/site-packages/mmengine/fileio/backends/local_backend.py\u001b[0m in \u001b[0;36mget\u001b[0;34m(self, filepath)\u001b[0m\n\u001b[1;32m     31\u001b[0m             \u001b[0;34mb'hello world'\u001b[0m\u001b[0;34m\u001b[0m\u001b[0;34m\u001b[0m\u001b[0m\n\u001b[1;32m     32\u001b[0m         \"\"\"\n\u001b[0;32m---> 33\u001b[0;31m         \u001b[0;32mwith\u001b[0m \u001b[0mopen\u001b[0m\u001b[0;34m(\u001b[0m\u001b[0mfilepath\u001b[0m\u001b[0;34m,\u001b[0m \u001b[0;34m'rb'\u001b[0m\u001b[0;34m)\u001b[0m \u001b[0;32mas\u001b[0m \u001b[0mf\u001b[0m\u001b[0;34m:\u001b[0m\u001b[0;34m\u001b[0m\u001b[0;34m\u001b[0m\u001b[0m\n\u001b[0m\u001b[1;32m     34\u001b[0m             \u001b[0mvalue\u001b[0m \u001b[0;34m=\u001b[0m \u001b[0mf\u001b[0m\u001b[0;34m.\u001b[0m\u001b[0mread\u001b[0m\u001b[0;34m(\u001b[0m\u001b[0;34m)\u001b[0m\u001b[0;34m\u001b[0m\u001b[0;34m\u001b[0m\u001b[0m\n\u001b[1;32m     35\u001b[0m         \u001b[0;32mreturn\u001b[0m \u001b[0mvalue\u001b[0m\u001b[0;34m\u001b[0m\u001b[0;34m\u001b[0m\u001b[0m\n",
      "\u001b[0;31mFileNotFoundError\u001b[0m: [Errno 2] No such file or directory: 'resources/output/translation/tutorial_translation_pix2pix_res.jpg'"
     ]
    }
   ],
   "source": [
    "# plot the result image\n",
    "import mmcv\n",
    "import matplotlib.pyplot as plt \n",
    "img = mmcv.imread('resources/output/translation/tutorial_translation_pix2pix_res.jpg')\n",
    "plt.imshow(mmcv.bgr2rgb(img))\n",
    "plt.show()"
   ]
  },
  {
   "cell_type": "code",
   "execution_count": null,
   "id": "c5c5b0fb-5aa7-4774-bb07-40cbc9ba0424",
   "metadata": {},
   "outputs": [],
   "source": []
  }
 ],
 "metadata": {
  "kernelspec": {
   "display_name": "Python 3 (ipykernel)",
   "language": "python",
   "name": "python3"
  },
  "language_info": {
   "codemirror_mode": {
    "name": "ipython",
    "version": 3
   },
   "file_extension": ".py",
   "mimetype": "text/x-python",
   "name": "python",
   "nbconvert_exporter": "python",
   "pygments_lexer": "ipython3",
   "version": "3.7.10"
  }
 },
 "nbformat": 4,
 "nbformat_minor": 5
}
