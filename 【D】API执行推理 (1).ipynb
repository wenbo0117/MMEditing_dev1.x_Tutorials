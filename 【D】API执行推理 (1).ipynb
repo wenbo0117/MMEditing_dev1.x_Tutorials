{
 "cells": [
  {
   "cell_type": "markdown",
   "id": "90811191-2ba2-4f22-9f16-d2df9f948693",
   "metadata": {},
   "source": [
    "## 进入 MMEditing 主目录"
   ]
  },
  {
   "cell_type": "code",
   "execution_count": 3,
   "id": "55c01588-3f2c-4334-8378-244311c17e1d",
   "metadata": {},
   "outputs": [
    {
     "data": {
      "text/plain": [
       "['.git',\n",
       " '.circleci',\n",
       " '.dele.yml',\n",
       " '.dev_scripts',\n",
       " '.github',\n",
       " '.gitignore',\n",
       " '.owners.yml',\n",
       " '.pre-commit-config.yaml',\n",
       " '.pylintrc',\n",
       " '.readthedocs.yml',\n",
       " 'CITATION.cff',\n",
       " 'LICENSE',\n",
       " 'MANIFEST.in',\n",
       " 'README.md',\n",
       " 'README_zh-CN.md',\n",
       " 'configs',\n",
       " 'demo',\n",
       " 'docker',\n",
       " 'docs',\n",
       " 'mmedit',\n",
       " 'model-index.yml',\n",
       " 'projects',\n",
       " 'requirements.txt',\n",
       " 'requirements',\n",
       " 'setup.cfg',\n",
       " 'setup.py',\n",
       " 'tests',\n",
       " 'tools',\n",
       " 'mmedit.egg-info',\n",
       " 'outputs',\n",
       " 'data',\n",
       " 'checkpoints',\n",
       " 'work_dirs']"
      ]
     },
     "execution_count": 3,
     "metadata": {},
     "output_type": "execute_result"
    }
   ],
   "source": [
    "import os\n",
    "os.chdir('mmediting')\n",
    "os.listdir()"
   ]
  },
  {
   "cell_type": "markdown",
   "id": "cf95f7b7-21de-4ad0-a9e4-67b283f472f8",
   "metadata": {},
   "source": [
    "## 检查推理支持的任务和模型"
   ]
  },
  {
   "cell_type": "markdown",
   "id": "92752a0a-9707-49e1-8b74-6b31cdf544de",
   "metadata": {},
   "source": [
    "在编辑中有多种任务类型:抠图、修补、视频超分辨率、图像超分辨率、图像转图像、无条件GANs、有条件GANs、视频插帧。\n",
    "\n",
    "我们为每个任务提供了一些模型。所有可用的模型和任务都可以打印出来。"
   ]
  },
  {
   "cell_type": "code",
   "execution_count": 4,
   "id": "68312d88-3b9c-4015-84e0-d185cf9ab7d9",
   "metadata": {},
   "outputs": [
    {
     "name": "stdout",
     "output_type": "stream",
     "text": [
      "all supported models:\n",
      "['biggan', 'styleganv1', 'gca', 'global_local', 'aot_gan', 'pix2pix', 'esrgan', 'flavr', 'cain', 'edvr', 'disco_diffusion', 'eg3d']\n",
      "all supported tasks:\n",
      "['Inpainting', 'Conditional GANs', 'Video Interpolation', 'Matting', 'Unconditional GANs', 'Video Super-Resolution', 'Image Super-Resolution', 'Text2Image, Image2Image, diffusion', '3D-aware Generation', 'Image2Image']\n",
      "translation models:\n",
      "['pix2pix']\n"
     ]
    }
   ],
   "source": [
    "from mmedit.edit import MMEdit\n",
    "\n",
    "# print all supported models for inference.\n",
    "inference_supported_models = MMEdit.get_inference_supported_models()\n",
    "print('all supported models:')\n",
    "print(inference_supported_models)\n",
    "\n",
    "# print all supported tasks for inference.\n",
    "supported_tasks = MMEdit.get_inference_supported_tasks()\n",
    "print('all supported tasks:')\n",
    "print(supported_tasks)\n",
    "\n",
    "# print all supported models for one task, take image translation for example.\n",
    "task_supported_models = MMEdit.get_task_supported_models('Image2Image')\n",
    "print('translation models:')\n",
    "print(task_supported_models)"
   ]
  },
  {
   "cell_type": "markdown",
   "id": "37c0be41-7fe8-44bd-93d2-c58963edb729",
   "metadata": {},
   "source": [
    "## 下载图片和视频"
   ]
  },
  {
   "cell_type": "code",
   "execution_count": 5,
   "id": "7a43ef50-5f27-448c-b7d1-0b9d6658ffe2",
   "metadata": {},
   "outputs": [],
   "source": [
    "# 创建存放素材的文件夹\n",
    "!mkdir -p ./resources/input/translation\n",
    "!mkdir -p ./resources/output/translation"
   ]
  },
  {
   "cell_type": "code",
   "execution_count": 6,
   "id": "e79337e2-1231-4048-a207-260ea30d01d8",
   "metadata": {
    "tags": []
   },
   "outputs": [
    {
     "name": "stdout",
     "output_type": "stream",
     "text": [
      "all inference resources:\n",
      "Matting\n",
      "https://download.openmmlab.com/mmediting/resources/input/matting/GT05.jpg\n",
      "https://download.openmmlab.com/mmediting/resources/input/matting/GT05_trimap.jpg\n",
      "https://download.openmmlab.com/mmediting/resources/input/matting/readme.md\n",
      "Inpainting\n",
      "https://download.openmmlab.com/mmediting/resources/input/inpainting/bbox_mask.png\n",
      "https://download.openmmlab.com/mmediting/resources/input/inpainting/celeba_test.png\n",
      "https://download.openmmlab.com/mmediting/resources/input/inpainting/readme.md\n",
      "Image Super-Resolution\n",
      "https://download.openmmlab.com/mmediting/resources/input/restoration/000001.png\n",
      "https://download.openmmlab.com/mmediting/resources/input/restoration/0901x2.png\n",
      "https://download.openmmlab.com/mmediting/resources/input/restoration/readme.md\n",
      "Image2Image Translation\n",
      "https://download.openmmlab.com/mmediting/resources/input/translation/gt_mask_0.png\n",
      "https://download.openmmlab.com/mmediting/resources/input/translation/readme.md\n",
      "Video Interpolation\n",
      "https://download.openmmlab.com/mmediting/resources/input/video_interpolation/b-3LLDhc4EU_000000_000010.mp4\n",
      "https://download.openmmlab.com/mmediting/resources/input/video_interpolation/readme.md\n",
      "Video Super-Resolution\n",
      "https://download.openmmlab.com/mmediting/resources/input/video_restoration/QUuC4vJs_000084_000094_400x320.mp4\n",
      "https://download.openmmlab.com/mmediting/resources/input/video_restoration/readme.md\n",
      "https://download.openmmlab.com/mmediting/resources/input/video_restoration/v_Basketball_g01_c01.avi\n",
      "all task type:\n",
      "Matting\n",
      "Inpainting\n",
      "Image Super-Resolution\n",
      "Image2Image Translation\n",
      "Video Interpolation\n",
      "Video Super-Resolution\n",
      "RESOURCES of task Inpainting:\n",
      "https://download.openmmlab.com/mmediting/resources/input/inpainting/bbox_mask.png\n",
      "https://download.openmmlab.com/mmediting/resources/input/inpainting/celeba_test.png\n",
      "https://download.openmmlab.com/mmediting/resources/input/inpainting/readme.md\n",
      "Download finished: https://download.openmmlab.com/mmediting/resources/input/matting/GT05.jpg to demo/../resources/input/matting/GT05.jpg\n",
      "Download finished: https://download.openmmlab.com/mmediting/resources/input/matting/GT05_trimap.jpg to demo/../resources/input/matting/GT05_trimap.jpg\n",
      "Download finished: https://download.openmmlab.com/mmediting/resources/input/matting/readme.md to demo/../resources/input/matting/readme.md\n",
      "Download finished: https://download.openmmlab.com/mmediting/resources/input/inpainting/bbox_mask.png to demo/../resources/input/inpainting/bbox_mask.png\n",
      "Download finished: https://download.openmmlab.com/mmediting/resources/input/inpainting/celeba_test.png to demo/../resources/input/inpainting/celeba_test.png\n",
      "Download finished: https://download.openmmlab.com/mmediting/resources/input/inpainting/readme.md to demo/../resources/input/inpainting/readme.md\n",
      "Download finished: https://download.openmmlab.com/mmediting/resources/input/restoration/000001.png to demo/../resources/input/restoration/000001.png\n",
      "Download finished: https://download.openmmlab.com/mmediting/resources/input/restoration/0901x2.png to demo/../resources/input/restoration/0901x2.png\n",
      "Download finished: https://download.openmmlab.com/mmediting/resources/input/restoration/readme.md to demo/../resources/input/restoration/readme.md\n",
      "Download finished: https://download.openmmlab.com/mmediting/resources/input/translation/gt_mask_0.png to demo/../resources/input/translation/gt_mask_0.png\n",
      "Download finished: https://download.openmmlab.com/mmediting/resources/input/translation/readme.md to demo/../resources/input/translation/readme.md\n",
      "Download finished: https://download.openmmlab.com/mmediting/resources/input/video_interpolation/b-3LLDhc4EU_000000_000010.mp4 to demo/../resources/input/video_interpolation/b-3LLDhc4EU_000000_000010.mp4\n",
      "Download finished: https://download.openmmlab.com/mmediting/resources/input/video_interpolation/readme.md to demo/../resources/input/video_interpolation/readme.md\n",
      "Download finished: https://download.openmmlab.com/mmediting/resources/input/video_restoration/QUuC4vJs_000084_000094_400x320.mp4 to demo/../resources/input/video_restoration/QUuC4vJs_000084_000094_400x320.mp4\n",
      "Download finished: https://download.openmmlab.com/mmediting/resources/input/video_restoration/readme.md to demo/../resources/input/video_restoration/readme.md\n",
      "Download finished: https://download.openmmlab.com/mmediting/resources/input/video_restoration/v_Basketball_g01_c01.avi to demo/../resources/input/video_restoration/v_Basketball_g01_c01.avi\n",
      "Download finished: https://download.openmmlab.com/mmediting/resources/input/inpainting/bbox_mask.png to demo/../resources/input/inpainting/bbox_mask.png\n",
      "Download finished: https://download.openmmlab.com/mmediting/resources/input/inpainting/celeba_test.png to demo/../resources/input/inpainting/celeba_test.png\n",
      "Download finished: https://download.openmmlab.com/mmediting/resources/input/inpainting/readme.md to demo/../resources/input/inpainting/readme.md\n",
      "Download finished: https://download.openmmlab.com/mmediting/resources/input/matting/GT05.jpg to demo/resources/input/matting/GT05.jpg\n",
      "Download finished: https://download.openmmlab.com/mmediting/resources/input/matting/GT05_trimap.jpg to demo/resources/input/matting/GT05_trimap.jpg\n",
      "Download finished: https://download.openmmlab.com/mmediting/resources/input/matting/readme.md to demo/resources/input/matting/readme.md\n",
      "Download finished: https://download.openmmlab.com/mmediting/resources/input/inpainting/bbox_mask.png to demo/resources/input/inpainting/bbox_mask.png\n",
      "Download finished: https://download.openmmlab.com/mmediting/resources/input/inpainting/celeba_test.png to demo/resources/input/inpainting/celeba_test.png\n",
      "Download finished: https://download.openmmlab.com/mmediting/resources/input/inpainting/readme.md to demo/resources/input/inpainting/readme.md\n",
      "Download finished: https://download.openmmlab.com/mmediting/resources/input/restoration/000001.png to demo/resources/input/restoration/000001.png\n",
      "Download finished: https://download.openmmlab.com/mmediting/resources/input/restoration/0901x2.png to demo/resources/input/restoration/0901x2.png\n",
      "Download finished: https://download.openmmlab.com/mmediting/resources/input/restoration/readme.md to demo/resources/input/restoration/readme.md\n",
      "Download finished: https://download.openmmlab.com/mmediting/resources/input/translation/gt_mask_0.png to demo/resources/input/translation/gt_mask_0.png\n",
      "Download finished: https://download.openmmlab.com/mmediting/resources/input/translation/readme.md to demo/resources/input/translation/readme.md\n",
      "Download finished: https://download.openmmlab.com/mmediting/resources/input/video_interpolation/b-3LLDhc4EU_000000_000010.mp4 to demo/resources/input/video_interpolation/b-3LLDhc4EU_000000_000010.mp4\n",
      "Download finished: https://download.openmmlab.com/mmediting/resources/input/video_interpolation/readme.md to demo/resources/input/video_interpolation/readme.md\n",
      "Download finished: https://download.openmmlab.com/mmediting/resources/input/video_restoration/QUuC4vJs_000084_000094_400x320.mp4 to demo/resources/input/video_restoration/QUuC4vJs_000084_000094_400x320.mp4\n",
      "Download finished: https://download.openmmlab.com/mmediting/resources/input/video_restoration/readme.md to demo/resources/input/video_restoration/readme.md\n",
      "Download finished: https://download.openmmlab.com/mmediting/resources/input/video_restoration/v_Basketball_g01_c01.avi to demo/resources/input/video_restoration/v_Basketball_g01_c01.avi\n"
     ]
    }
   ],
   "source": [
    "# 查看所有资源\n",
    "!python demo/download_inference_resources.py --print-all\n",
    "# 查看所有任务类型\n",
    "!python demo/download_inference_resources.py --print-task-type\n",
    "# 查看特定任务的资源\n",
    "!python demo/download_inference_resources.py --print-task 'Inpainting'\n",
    "# 将所有资源下载到默认目录'../resources'\n",
    "!python demo/download_inference_resources.py\n",
    "# 下载一个任务的资源\n",
    "!python demo/download_inference_resources.py --task 'Inpainting'\n",
    "# 下载到您想要的目录\n",
    "!python demo/download_inference_resources.py --root-dir 'resources'"
   ]
  },
  {
   "cell_type": "markdown",
   "id": "87c29c74-6ae2-4136-99a8-1ca3ae1e2877",
   "metadata": {},
   "source": [
    "用两行python代码进行推理。 \n",
    "有两个步骤: 首先，通过预先训练的模型名称创建一个MMEdit实例。\n",
    "第二，用这个MMEdit实例推断自己的图片。转换后的图像将保存到result_out_dir。"
   ]
  },
  {
   "cell_type": "code",
   "execution_count": 18,
   "id": "6a1560d5-be87-4d8f-adfa-f0420e472cb0",
   "metadata": {},
   "outputs": [
    {
     "ename": "ValueError",
     "evalue": "Unknown inferencer task: Image2Image",
     "output_type": "error",
     "traceback": [
      "\u001b[0;31m---------------------------------------------------------------------------\u001b[0m",
      "\u001b[0;31mValueError\u001b[0m                                Traceback (most recent call last)",
      "\u001b[0;32m/tmp/ipykernel_2897/34827700.py\u001b[0m in \u001b[0;36m<module>\u001b[0;34m\u001b[0m\n\u001b[1;32m      2\u001b[0m \u001b[0;34m\u001b[0m\u001b[0m\n\u001b[1;32m      3\u001b[0m \u001b[0;31m# 创建一个MMEdit实例\u001b[0m\u001b[0;34m\u001b[0m\u001b[0;34m\u001b[0m\u001b[0;34m\u001b[0m\u001b[0m\n\u001b[0;32m----> 4\u001b[0;31m \u001b[0meditor\u001b[0m \u001b[0;34m=\u001b[0m \u001b[0mMMEdit\u001b[0m\u001b[0;34m(\u001b[0m\u001b[0;34m'pix2pix'\u001b[0m\u001b[0;34m)\u001b[0m\u001b[0;34m\u001b[0m\u001b[0;34m\u001b[0m\u001b[0m\n\u001b[0m\u001b[1;32m      5\u001b[0m \u001b[0;31m# 推断图像。需要输入图像路径和输出图像路径。\u001b[0m\u001b[0;34m\u001b[0m\u001b[0;34m\u001b[0m\u001b[0;34m\u001b[0m\u001b[0m\n\u001b[1;32m      6\u001b[0m \u001b[0mresults\u001b[0m \u001b[0;34m=\u001b[0m \u001b[0meditor\u001b[0m\u001b[0;34m.\u001b[0m\u001b[0minfer\u001b[0m\u001b[0;34m(\u001b[0m\u001b[0mimg\u001b[0m\u001b[0;34m=\u001b[0m\u001b[0;34m'./resources/input/translation/gt_mask_0.png'\u001b[0m\u001b[0;34m,\u001b[0m \u001b[0mresult_out_dir\u001b[0m\u001b[0;34m=\u001b[0m\u001b[0;34m'./resources/output/translation/tutorial_translation_pix2pix_res.jpg'\u001b[0m\u001b[0;34m)\u001b[0m\u001b[0;34m\u001b[0m\u001b[0;34m\u001b[0m\u001b[0m\n",
      "\u001b[0;32m~/work/2/mmediting/mmedit/edit.py\u001b[0m in \u001b[0;36m__init__\u001b[0;34m(self, model_name, model_setting, model_config, model_ckpt, device, extra_parameters, seed, **kwargs)\u001b[0m\n\u001b[1;32m     93\u001b[0m                                         extra_parameters))\n\u001b[1;32m     94\u001b[0m         self.inferencer = MMEditInferencer(\n\u001b[0;32m---> 95\u001b[0;31m             device=device, seed=seed, **inferencer_kwargs)\n\u001b[0m\u001b[1;32m     96\u001b[0m \u001b[0;34m\u001b[0m\u001b[0m\n\u001b[1;32m     97\u001b[0m     def _get_inferencer_kwargs(self, model_name: Optional[str],\n",
      "\u001b[0;32m~/work/2/mmediting/mmedit/apis/inferencers/mmedit_inferencer.py\u001b[0m in \u001b[0;36m__init__\u001b[0;34m(self, task, config, ckpt, device, extra_parameters, seed)\u001b[0m\n\u001b[1;32m     69\u001b[0m                 config, ckpt, device, extra_parameters, seed=seed)\n\u001b[1;32m     70\u001b[0m         \u001b[0;32melse\u001b[0m\u001b[0;34m:\u001b[0m\u001b[0;34m\u001b[0m\u001b[0;34m\u001b[0m\u001b[0m\n\u001b[0;32m---> 71\u001b[0;31m             \u001b[0;32mraise\u001b[0m \u001b[0mValueError\u001b[0m\u001b[0;34m(\u001b[0m\u001b[0;34mf'Unknown inferencer task: {self.task}'\u001b[0m\u001b[0;34m)\u001b[0m\u001b[0;34m\u001b[0m\u001b[0;34m\u001b[0m\u001b[0m\n\u001b[0m\u001b[1;32m     72\u001b[0m \u001b[0;34m\u001b[0m\u001b[0m\n\u001b[1;32m     73\u001b[0m     \u001b[0;32mdef\u001b[0m \u001b[0m__call__\u001b[0m\u001b[0;34m(\u001b[0m\u001b[0mself\u001b[0m\u001b[0;34m,\u001b[0m \u001b[0;34m**\u001b[0m\u001b[0mkwargs\u001b[0m\u001b[0;34m)\u001b[0m \u001b[0;34m->\u001b[0m \u001b[0mUnion\u001b[0m\u001b[0;34m[\u001b[0m\u001b[0mDict\u001b[0m\u001b[0;34m,\u001b[0m \u001b[0mList\u001b[0m\u001b[0;34m[\u001b[0m\u001b[0mDict\u001b[0m\u001b[0;34m]\u001b[0m\u001b[0;34m]\u001b[0m\u001b[0;34m:\u001b[0m\u001b[0;34m\u001b[0m\u001b[0;34m\u001b[0m\u001b[0m\n",
      "\u001b[0;31mValueError\u001b[0m: Unknown inferencer task: Image2Image"
     ]
    }
   ],
   "source": [
    "from mmedit.edit import MMEdit\n",
    "\n",
    "# 创建一个MMEdit实例\n",
    "editor = MMEdit('pix2pix')\n",
    "# 推断图像。需要输入图像路径和输出图像路径。\n",
    "results = editor.infer(img='resources/input/translation/gt_mask_0.png', result_out_dir='resources/output/translation/tutorial_translation_pix2pix_res.jpg')"
   ]
  },
  {
   "cell_type": "code",
   "execution_count": 15,
   "id": "e5240c67-de28-48b0-a765-2154f0f2aa99",
   "metadata": {},
   "outputs": [
    {
     "ename": "FileNotFoundError",
     "evalue": "[Errno 2] No such file or directory: 'resources/output/translation/tutorial_translation_pix2pix_res.jpg'",
     "output_type": "error",
     "traceback": [
      "\u001b[0;31m---------------------------------------------------------------------------\u001b[0m",
      "\u001b[0;31mFileNotFoundError\u001b[0m                         Traceback (most recent call last)",
      "\u001b[0;32m/tmp/ipykernel_2897/1874984373.py\u001b[0m in \u001b[0;36m<module>\u001b[0;34m\u001b[0m\n\u001b[1;32m      2\u001b[0m \u001b[0;32mimport\u001b[0m \u001b[0mmmcv\u001b[0m\u001b[0;34m\u001b[0m\u001b[0;34m\u001b[0m\u001b[0m\n\u001b[1;32m      3\u001b[0m \u001b[0;32mimport\u001b[0m \u001b[0mmatplotlib\u001b[0m\u001b[0;34m.\u001b[0m\u001b[0mpyplot\u001b[0m \u001b[0;32mas\u001b[0m \u001b[0mplt\u001b[0m\u001b[0;34m\u001b[0m\u001b[0;34m\u001b[0m\u001b[0m\n\u001b[0;32m----> 4\u001b[0;31m \u001b[0mimg\u001b[0m \u001b[0;34m=\u001b[0m \u001b[0mmmcv\u001b[0m\u001b[0;34m.\u001b[0m\u001b[0mimread\u001b[0m\u001b[0;34m(\u001b[0m\u001b[0;34m'resources/output/translation/tutorial_translation_pix2pix_res.jpg'\u001b[0m\u001b[0;34m)\u001b[0m\u001b[0;34m\u001b[0m\u001b[0;34m\u001b[0m\u001b[0m\n\u001b[0m\u001b[1;32m      5\u001b[0m \u001b[0mplt\u001b[0m\u001b[0;34m.\u001b[0m\u001b[0mimshow\u001b[0m\u001b[0;34m(\u001b[0m\u001b[0mmmcv\u001b[0m\u001b[0;34m.\u001b[0m\u001b[0mbgr2rgb\u001b[0m\u001b[0;34m(\u001b[0m\u001b[0mimg\u001b[0m\u001b[0;34m)\u001b[0m\u001b[0;34m)\u001b[0m\u001b[0;34m\u001b[0m\u001b[0;34m\u001b[0m\u001b[0m\n\u001b[1;32m      6\u001b[0m \u001b[0mplt\u001b[0m\u001b[0;34m.\u001b[0m\u001b[0mshow\u001b[0m\u001b[0;34m(\u001b[0m\u001b[0;34m)\u001b[0m\u001b[0;34m\u001b[0m\u001b[0;34m\u001b[0m\u001b[0m\n",
      "\u001b[0;32m/environment/miniconda3/lib/python3.7/site-packages/mmcv/image/io.py\u001b[0m in \u001b[0;36mimread\u001b[0;34m(img_or_path, flag, channel_order, backend, file_client_args, backend_args)\u001b[0m\n\u001b[1;32m    223\u001b[0m             \u001b[0mimg_bytes\u001b[0m \u001b[0;34m=\u001b[0m \u001b[0mfile_client\u001b[0m\u001b[0;34m.\u001b[0m\u001b[0mget\u001b[0m\u001b[0;34m(\u001b[0m\u001b[0mimg_or_path\u001b[0m\u001b[0;34m)\u001b[0m\u001b[0;34m\u001b[0m\u001b[0;34m\u001b[0m\u001b[0m\n\u001b[1;32m    224\u001b[0m         \u001b[0;32melse\u001b[0m\u001b[0;34m:\u001b[0m\u001b[0;34m\u001b[0m\u001b[0;34m\u001b[0m\u001b[0m\n\u001b[0;32m--> 225\u001b[0;31m             \u001b[0mimg_bytes\u001b[0m \u001b[0;34m=\u001b[0m \u001b[0mfileio\u001b[0m\u001b[0;34m.\u001b[0m\u001b[0mget\u001b[0m\u001b[0;34m(\u001b[0m\u001b[0mimg_or_path\u001b[0m\u001b[0;34m,\u001b[0m \u001b[0mbackend_args\u001b[0m\u001b[0;34m=\u001b[0m\u001b[0mbackend_args\u001b[0m\u001b[0;34m)\u001b[0m\u001b[0;34m\u001b[0m\u001b[0;34m\u001b[0m\u001b[0m\n\u001b[0m\u001b[1;32m    226\u001b[0m         \u001b[0;32mreturn\u001b[0m \u001b[0mimfrombytes\u001b[0m\u001b[0;34m(\u001b[0m\u001b[0mimg_bytes\u001b[0m\u001b[0;34m,\u001b[0m \u001b[0mflag\u001b[0m\u001b[0;34m,\u001b[0m \u001b[0mchannel_order\u001b[0m\u001b[0;34m,\u001b[0m \u001b[0mbackend\u001b[0m\u001b[0;34m)\u001b[0m\u001b[0;34m\u001b[0m\u001b[0;34m\u001b[0m\u001b[0m\n\u001b[1;32m    227\u001b[0m     \u001b[0;32melse\u001b[0m\u001b[0;34m:\u001b[0m\u001b[0;34m\u001b[0m\u001b[0;34m\u001b[0m\u001b[0m\n",
      "\u001b[0;32m/environment/miniconda3/lib/python3.7/site-packages/mmengine/fileio/io.py\u001b[0m in \u001b[0;36mget\u001b[0;34m(filepath, backend_args)\u001b[0m\n\u001b[1;32m    177\u001b[0m     backend = get_file_backend(\n\u001b[1;32m    178\u001b[0m         filepath, backend_args=backend_args, enable_singleton=True)\n\u001b[0;32m--> 179\u001b[0;31m     \u001b[0;32mreturn\u001b[0m \u001b[0mbackend\u001b[0m\u001b[0;34m.\u001b[0m\u001b[0mget\u001b[0m\u001b[0;34m(\u001b[0m\u001b[0mfilepath\u001b[0m\u001b[0;34m)\u001b[0m\u001b[0;34m\u001b[0m\u001b[0;34m\u001b[0m\u001b[0m\n\u001b[0m\u001b[1;32m    180\u001b[0m \u001b[0;34m\u001b[0m\u001b[0m\n\u001b[1;32m    181\u001b[0m \u001b[0;34m\u001b[0m\u001b[0m\n",
      "\u001b[0;32m/environment/miniconda3/lib/python3.7/site-packages/mmengine/fileio/backends/local_backend.py\u001b[0m in \u001b[0;36mget\u001b[0;34m(self, filepath)\u001b[0m\n\u001b[1;32m     31\u001b[0m             \u001b[0;34mb'hello world'\u001b[0m\u001b[0;34m\u001b[0m\u001b[0;34m\u001b[0m\u001b[0m\n\u001b[1;32m     32\u001b[0m         \"\"\"\n\u001b[0;32m---> 33\u001b[0;31m         \u001b[0;32mwith\u001b[0m \u001b[0mopen\u001b[0m\u001b[0;34m(\u001b[0m\u001b[0mfilepath\u001b[0m\u001b[0;34m,\u001b[0m \u001b[0;34m'rb'\u001b[0m\u001b[0;34m)\u001b[0m \u001b[0;32mas\u001b[0m \u001b[0mf\u001b[0m\u001b[0;34m:\u001b[0m\u001b[0;34m\u001b[0m\u001b[0;34m\u001b[0m\u001b[0m\n\u001b[0m\u001b[1;32m     34\u001b[0m             \u001b[0mvalue\u001b[0m \u001b[0;34m=\u001b[0m \u001b[0mf\u001b[0m\u001b[0;34m.\u001b[0m\u001b[0mread\u001b[0m\u001b[0;34m(\u001b[0m\u001b[0;34m)\u001b[0m\u001b[0;34m\u001b[0m\u001b[0;34m\u001b[0m\u001b[0m\n\u001b[1;32m     35\u001b[0m         \u001b[0;32mreturn\u001b[0m \u001b[0mvalue\u001b[0m\u001b[0;34m\u001b[0m\u001b[0;34m\u001b[0m\u001b[0m\n",
      "\u001b[0;31mFileNotFoundError\u001b[0m: [Errno 2] No such file or directory: 'resources/output/translation/tutorial_translation_pix2pix_res.jpg'"
     ]
    }
   ],
   "source": [
    "# 绘制结果图像\n",
    "import mmcv\n",
    "import matplotlib.pyplot as plt \n",
    "img = mmcv.imread('resources/output/translation/tutorial_translation_pix2pix_res.jpg')\n",
    "plt.imshow(mmcv.bgr2rgb(img))\n",
    "plt.show()"
   ]
  },
  {
   "cell_type": "markdown",
   "id": "b19a1dbf-0084-45a9-92aa-7e9cf29789a3",
   "metadata": {},
   "source": [
    "## 使用特定模型的不同设置进行推断"
   ]
  },
  {
   "cell_type": "markdown",
   "id": "0230ead1-3193-4c16-88f2-a5e00187fe32",
   "metadata": {},
   "source": [
    "一个型号有一些不同的配置和检查点。 以条件GAN模型‘biggan’为例。我们为Cifar和Imagenet提供了预训练模型，所有预训练的“biggan”模型都列在其metafile.yaml中 \n",
    "\n",
    "您可以通过将“model_setting”传递给“MMEdit”来配置不同的设置。每个模型的默认设置是0。"
   ]
  },
  {
   "cell_type": "code",
   "execution_count": 2,
   "id": "70eee37b-3aeb-48dc-9709-f25502693415",
   "metadata": {},
   "outputs": [
    {
     "ename": "ModuleNotFoundError",
     "evalue": "No module named 'mmedit'",
     "output_type": "error",
     "traceback": [
      "\u001b[0;31m---------------------------------------------------------------------------\u001b[0m",
      "\u001b[0;31mModuleNotFoundError\u001b[0m                       Traceback (most recent call last)",
      "\u001b[0;32m/tmp/ipykernel_18398/2590696607.py\u001b[0m in \u001b[0;36m<module>\u001b[0;34m\u001b[0m\n\u001b[1;32m      1\u001b[0m \u001b[0;32mimport\u001b[0m \u001b[0mmmcv\u001b[0m\u001b[0;34m\u001b[0m\u001b[0;34m\u001b[0m\u001b[0m\n\u001b[1;32m      2\u001b[0m \u001b[0;32mimport\u001b[0m \u001b[0mmatplotlib\u001b[0m\u001b[0;34m.\u001b[0m\u001b[0mpyplot\u001b[0m \u001b[0;32mas\u001b[0m \u001b[0mplt\u001b[0m\u001b[0;34m\u001b[0m\u001b[0;34m\u001b[0m\u001b[0m\n\u001b[0;32m----> 3\u001b[0;31m \u001b[0;32mfrom\u001b[0m \u001b[0mmmedit\u001b[0m\u001b[0;34m.\u001b[0m\u001b[0medit\u001b[0m \u001b[0;32mimport\u001b[0m \u001b[0mMMEdit\u001b[0m\u001b[0;34m\u001b[0m\u001b[0;34m\u001b[0m\u001b[0m\n\u001b[0m\u001b[1;32m      4\u001b[0m \u001b[0;34m\u001b[0m\u001b[0m\n\u001b[1;32m      5\u001b[0m \u001b[0mresult_out_dir\u001b[0m \u001b[0;34m=\u001b[0m \u001b[0;34m'../resources/output/conditional/tutorial_conditinal_biggan_res_setting1.jpg'\u001b[0m\u001b[0;34m\u001b[0m\u001b[0;34m\u001b[0m\u001b[0m\n",
      "\u001b[0;31mModuleNotFoundError\u001b[0m: No module named 'mmedit'"
     ]
    }
   ],
   "source": [
    "import mmcv\n",
    "import matplotlib.pyplot as plt \n",
    "from mmedit.edit import MMEdit\n",
    "\n",
    "result_out_dir = '../resources/output/conditional/tutorial_conditinal_biggan_res_setting1.jpg'\n",
    "# configure setting to 1\n",
    "editor = MMEdit('biggan', model_setting=1) \n",
    "results = editor.infer(label=1, result_out_dir=result_out_dir)\n",
    "\n",
    "# plot the result image\n",
    "img = mmcv.imread(result_out_dir)\n",
    "plt.imshow(mmcv.bgr2rgb(img))\n",
    "plt.show()"
   ]
  },
  {
   "cell_type": "markdown",
   "id": "412d7888-7a09-4fca-bff3-c7e7b20ffe69",
   "metadata": {},
   "source": [
    "## 用额外参数推断"
   ]
  },
  {
   "cell_type": "markdown",
   "id": "aaec62d5-1af3-4de4-b196-a6957109cd30",
   "metadata": {},
   "source": [
    "一些模型可能有额外的参数，可以配置这些参数来执行推理。 \n",
    "\n",
    "以“biggan”为例。您可以在dict中配置“num_batches”并将其传递给“MMEdit”"
   ]
  },
  {
   "cell_type": "code",
   "execution_count": null,
   "id": "43f9efca-12ab-41d4-aad3-8c5c0b77e9db",
   "metadata": {},
   "outputs": [],
   "source": [
    "import mmcv\n",
    "import matplotlib.pyplot as plt \n",
    "from mmedit.edit import MMEdit\n",
    "\n",
    "result_out_dir = '../resources/output/conditional/tutorial_conditinal_biggan_res_sample6.jpg'\n",
    "# use a dict to pass the parameters, num_batches means images output num for one inference\n",
    "editor = MMEdit('biggan', model_setting=1, extra_parameters={'num_batches':6}) \n",
    "results = editor.infer(label=1, result_out_dir=result_out_dir)\n",
    "\n",
    "# plot the result image and we could see 6 images in a inference batch\n",
    "img = mmcv.imread(result_out_dir)\n",
    "plt.imshow(mmcv.bgr2rgb(img))\n",
    "plt.show()"
   ]
  },
  {
   "cell_type": "markdown",
   "id": "626f48a3-171f-41b8-a6c7-cda4aee6ddb5",
   "metadata": {},
   "source": [
    "知道一个模型有哪些额外的参数"
   ]
  },
  {
   "cell_type": "code",
   "execution_count": null,
   "id": "dd5fb3a0-b5b2-4904-b8a7-51036662509a",
   "metadata": {},
   "outputs": [],
   "source": [
    "import mmcv\n",
    "import matplotlib.pyplot as plt \n",
    "from mmedit.edit import MMEdit\n",
    "\n",
    "editor = MMEdit('biggan', model_setting=1) \n",
    "editor.print_extra_parameters()\n",
    "# “num_batches”和“sample_model”是“biggan”模型中的额外参数"
   ]
  }
 ],
 "metadata": {
  "kernelspec": {
   "display_name": "Python 3 (ipykernel)",
   "language": "python",
   "name": "python3"
  },
  "language_info": {
   "codemirror_mode": {
    "name": "ipython",
    "version": 3
   },
   "file_extension": ".py",
   "mimetype": "text/x-python",
   "name": "python",
   "nbconvert_exporter": "python",
   "pygments_lexer": "ipython3",
   "version": "3.7.10"
  }
 },
 "nbformat": 4,
 "nbformat_minor": 5
}
