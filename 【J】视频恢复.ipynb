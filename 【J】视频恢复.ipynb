{
 "cells": [
  {
   "cell_type": "markdown",
   "id": "cbb35f19-f4ec-4d9e-a590-3ff0750d12c4",
   "metadata": {},
   "source": [
    "## 进入 MMEditing 主目录"
   ]
  },
  {
   "cell_type": "code",
   "execution_count": 1,
   "id": "83b9109a-e728-468c-ac33-50b91d555a56",
   "metadata": {
    "tags": []
   },
   "outputs": [
    {
     "data": {
      "text/plain": [
       "['.git',\n",
       " '.circleci',\n",
       " '.dele.yml',\n",
       " '.dev_scripts',\n",
       " '.github',\n",
       " '.gitignore',\n",
       " '.owners.yml',\n",
       " '.pre-commit-config.yaml',\n",
       " '.pylintrc',\n",
       " '.readthedocs.yml',\n",
       " 'CITATION.cff',\n",
       " 'LICENSE',\n",
       " 'MANIFEST.in',\n",
       " 'README.md',\n",
       " 'README_zh-CN.md',\n",
       " 'configs',\n",
       " 'demo',\n",
       " 'docker',\n",
       " 'docs',\n",
       " 'mmedit',\n",
       " 'model-index.yml',\n",
       " 'projects',\n",
       " 'requirements.txt',\n",
       " 'requirements',\n",
       " 'setup.cfg',\n",
       " 'setup.py',\n",
       " 'tests',\n",
       " 'tools',\n",
       " 'mmedit.egg-info',\n",
       " 'outputs',\n",
       " 'data',\n",
       " 'checkpoints',\n",
       " 'work_dirs',\n",
       " 'resources',\n",
       " 'tutorial_exps']"
      ]
     },
     "execution_count": 1,
     "metadata": {},
     "output_type": "execute_result"
    }
   ],
   "source": [
    "import os\n",
    "os.chdir('mmediting')\n",
    "os.listdir()"
   ]
  },
  {
   "cell_type": "markdown",
   "id": "2e8a109a-7c39-4ff9-9c8c-48f9372d7d48",
   "metadata": {},
   "source": [
    "## 视频恢复模型的推理"
   ]
  },
  {
   "cell_type": "markdown",
   "id": "35994cdc-878f-4e46-85e6-ad5771961bda",
   "metadata": {},
   "source": [
    "视频恢复模型将视频作为输入，并输出恢复的视频。我们以“basicvsr”为例."
   ]
  },
  {
   "cell_type": "code",
   "execution_count": null,
   "id": "880446fa-da24-48c7-8e91-91e2a2351d19",
   "metadata": {
    "tags": []
   },
   "outputs": [],
   "source": [
    "import os\n",
    "from mmedit.edit import MMEdit\n",
    "from mmengine import mkdir_or_exist\n",
    "\n",
    "# 创建一个MMEdit实例并推断\n",
    "video = 'resources/input/video_restoration/QUuC4vJs_000084_000094_400x320.mp4'\n",
    "result_out_dir = 'resources/output/video_restoration/tutorial_video_restoration_edvr_res.mp4'\n",
    "mkdir_or_exist(os.path.dirname(result_out_dir))\n",
    "editor = MMEdit('edvr', extra_parameters={'window_size':5})\n",
    "results = editor.infer(video=video, result_out_dir=result_out_dir)"
   ]
  },
  {
   "cell_type": "code",
   "execution_count": null,
   "id": "2ee827cc-cb4f-456b-b04f-f6079608b9e2",
   "metadata": {},
   "outputs": [],
   "source": [
    "import mmcv\n",
    "import matplotlib.pyplot as plt \n",
    "from mmedit.edit import MMEdit\n",
    "from mmengine import mkdir_or_exist\n",
    "\n",
    "# 创建一个MMEdit实例并推断\n",
    "editor = MMEdit(model_name='disco_diffusion')\n",
    "text_prompts = {\n",
    "    0: [\n",
    "        'clouds surround the mountains and Chinese palaces,sunshine,lake,overlook,overlook,unreal engine,light effect,Dream，Greg Rutkowski,James Gurney,artstation'\n",
    "    ]\n",
    "}\n",
    "result_out_dir = 'resources/output/text2image/tutorial_text2image_disco_res.png'\n",
    "editor.infer(text=text_prompts, result_out_dir=result_out_dir)\n",
    "\n",
    "# 绘制结果图像\n",
    "img = mmcv.imread(result_out_dir)\n",
    "plt.imshow(mmcv.bgr2rgb(img))\n",
    "plt.show()"
   ]
  }
 ],
 "metadata": {
  "kernelspec": {
   "display_name": "Python 3 (ipykernel)",
   "language": "python",
   "name": "python3"
  },
  "language_info": {
   "codemirror_mode": {
    "name": "ipython",
    "version": 3
   },
   "file_extension": ".py",
   "mimetype": "text/x-python",
   "name": "python",
   "nbconvert_exporter": "python",
   "pygments_lexer": "ipython3",
   "version": "3.7.10"
  }
 },
 "nbformat": 4,
 "nbformat_minor": 5
}
