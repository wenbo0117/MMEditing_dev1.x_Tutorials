{
 "cells": [
  {
   "cell_type": "markdown",
   "id": "6efe4bea-6e8f-4a33-aa6f-80dfa9b33ea2",
   "metadata": {},
   "source": [
    "## 进入 MMEditing 主目录"
   ]
  },
  {
   "cell_type": "code",
   "execution_count": 1,
   "id": "f3d709b2-5537-4ac7-85f8-3a49c73efc70",
   "metadata": {
    "tags": []
   },
   "outputs": [
    {
     "data": {
      "text/plain": [
       "['.git',\n",
       " '.circleci',\n",
       " '.dele.yml',\n",
       " '.dev_scripts',\n",
       " '.github',\n",
       " '.gitignore',\n",
       " '.owners.yml',\n",
       " '.pre-commit-config.yaml',\n",
       " '.pylintrc',\n",
       " '.readthedocs.yml',\n",
       " 'CITATION.cff',\n",
       " 'LICENSE',\n",
       " 'MANIFEST.in',\n",
       " 'README.md',\n",
       " 'README_zh-CN.md',\n",
       " 'configs',\n",
       " 'demo',\n",
       " 'docker',\n",
       " 'docs',\n",
       " 'mmedit',\n",
       " 'model-index.yml',\n",
       " 'projects',\n",
       " 'requirements.txt',\n",
       " 'requirements',\n",
       " 'setup.cfg',\n",
       " 'setup.py',\n",
       " 'tests',\n",
       " 'tools',\n",
       " 'mmedit.egg-info',\n",
       " 'outputs',\n",
       " 'data',\n",
       " 'checkpoints',\n",
       " 'work_dirs']"
      ]
     },
     "execution_count": 1,
     "metadata": {},
     "output_type": "execute_result"
    }
   ],
   "source": [
    "import os\n",
    "os.chdir('mmediting')\n",
    "os.listdir()"
   ]
  },
  {
   "cell_type": "markdown",
   "id": "e654cda9-e48c-40ac-b02f-335993afcb14",
   "metadata": {
    "tags": []
   },
   "source": [
    "## 视频插值模型的推断"
   ]
  },
  {
   "cell_type": "markdown",
   "id": "15a1f6e1-3d19-41da-9a49-eaca37f65ebc",
   "metadata": {},
   "source": [
    "视频插值模型将视频作为输入，并输出插值后的视频。\n",
    "我们以‘flavr’为例。"
   ]
  },
  {
   "cell_type": "code",
   "execution_count": 5,
   "id": "23aba251-5022-450d-ae50-64a064bd20fe",
   "metadata": {
    "tags": []
   },
   "outputs": [
    {
     "name": "stdout",
     "output_type": "stream",
     "text": [
      "Loads checkpoint by http backend from path: https://download.openmmlab.com/mmediting/video_interpolators/flavr/flavr_in4out1_g8b4_vimeo90k_septuplet_20220509-c2468995.pth\n",
      "02/21 18:11:43 - mmengine - \u001b[5m\u001b[4m\u001b[33mWARNING\u001b[0m - Failed to search registry with scope \"mmedit\" in the \"Collate Functions\" registry tree. As a workaround, the current \"Collate Functions\" registry in \"mmengine\" is used to build instance. This may cause unexpected failure when running the built modules. Please check whether \"mmedit\" is a correct scope, or whether the registry is initialized.\n",
      "[>>>>>>>>>>>>>>>>>>>>>>>>>>>>>>>>] 22/22, 1.2 task/s, elapsed: 19s, ETA:     0s02/21 18:12:02 - mmengine - \u001b[4m\u001b[37mINFO\u001b[0m - Output video is save at resources/output/video_interpolation/tutorial_video_interpolation_flavr_res.mp4.\n",
      "02/21 18:12:02 - mmengine - \u001b[4m\u001b[37mINFO\u001b[0m - Visualization is implemented in forward process.\n",
      "02/21 18:12:02 - mmengine - \u001b[4m\u001b[37mINFO\u001b[0m - Postprocess is implemented in forward process.\n"
     ]
    }
   ],
   "source": [
    "import os\n",
    "from mmedit.edit import MMEdit\n",
    "from mmengine import mkdir_or_exist\n",
    "\n",
    "# 创建一个MMEdit实例并推断\n",
    "video = 'resources/input/video_interpolation/b-3LLDhc4EU_000000_000010.mp4'\n",
    "result_out_dir = 'resources/output/video_interpolation/tutorial_video_interpolation_flavr_res.mp4'\n",
    "mkdir_or_exist(os.path.dirname(result_out_dir))\n",
    "editor = MMEdit('flavr')\n",
    "results = editor.infer(video=video, result_out_dir=result_out_dir)"
   ]
  }
 ],
 "metadata": {
  "kernelspec": {
   "display_name": "Python 3 (ipykernel)",
   "language": "python",
   "name": "python3"
  },
  "language_info": {
   "codemirror_mode": {
    "name": "ipython",
    "version": 3
   },
   "file_extension": ".py",
   "mimetype": "text/x-python",
   "name": "python",
   "nbconvert_exporter": "python",
   "pygments_lexer": "ipython3",
   "version": "3.7.10"
  }
 },
 "nbformat": 4,
 "nbformat_minor": 5
}
