{
 "cells": [
  {
   "cell_type": "markdown",
   "id": "a6444d41-4954-48d8-865c-c983d1811880",
   "metadata": {},
   "source": [
    "## 进入 MMEditing 主目录"
   ]
  },
  {
   "cell_type": "code",
   "execution_count": 1,
   "id": "49c9b9a9-9a10-4c24-8938-8653d8024d73",
   "metadata": {},
   "outputs": [
    {
     "data": {
      "text/plain": [
       "['.git',\n",
       " '.circleci',\n",
       " '.dele.yml',\n",
       " '.dev_scripts',\n",
       " '.github',\n",
       " '.gitignore',\n",
       " '.owners.yml',\n",
       " '.pre-commit-config.yaml',\n",
       " '.pylintrc',\n",
       " '.readthedocs.yml',\n",
       " 'CITATION.cff',\n",
       " 'LICENSE',\n",
       " 'MANIFEST.in',\n",
       " 'README.md',\n",
       " 'README_zh-CN.md',\n",
       " 'configs',\n",
       " 'demo',\n",
       " 'docker',\n",
       " 'docs',\n",
       " 'mmedit',\n",
       " 'model-index.yml',\n",
       " 'projects',\n",
       " 'requirements.txt',\n",
       " 'requirements',\n",
       " 'setup.cfg',\n",
       " 'setup.py',\n",
       " 'tests',\n",
       " 'tools',\n",
       " 'mmedit.egg-info',\n",
       " 'outputs',\n",
       " 'data',\n",
       " 'checkpoints',\n",
       " 'work_dirs',\n",
       " 'resources']"
      ]
     },
     "execution_count": 1,
     "metadata": {},
     "output_type": "execute_result"
    }
   ],
   "source": [
    "import os\n",
    "os.chdir('mmediting')\n",
    "os.listdir()"
   ]
  },
  {
   "cell_type": "markdown",
   "id": "4fad0f9c-cbae-4bf8-a363-0ce9cabd6aff",
   "metadata": {},
   "source": [
    "## 文本到图像模型的推理"
   ]
  },
  {
   "cell_type": "markdown",
   "id": "2caa4b23-8071-4dfe-a4d8-157214359617",
   "metadata": {},
   "source": [
    "文本到图像模型将文本作为输入，并输出图像。\n",
    "我们以“disco”为例。"
   ]
  },
  {
   "cell_type": "code",
   "execution_count": null,
   "id": "8bbf9224-569b-4caf-8532-5ddba4a9b89d",
   "metadata": {},
   "outputs": [
    {
     "name": "stdout",
     "output_type": "stream",
     "text": [
      "02/27 23:00:45 - mmengine - \u001b[4m\u001b[37mINFO\u001b[0m - Creating ViT-B/32 by OpenAI\n"
     ]
    },
    {
     "name": "stderr",
     "output_type": "stream",
     "text": [
      " 27%|██████████▍                            | 90.6M/338M [05:33<13:52, 311kiB/s]"
     ]
    }
   ],
   "source": [
    "import mmcv\n",
    "import matplotlib.pyplot as plt \n",
    "from mmedit.edit import MMEdit\n",
    "from mmengine import mkdir_or_exist\n",
    "\n",
    "# 创建一个MMEdit实例并推断\n",
    "editor = MMEdit(model_name='disco_diffusion')\n",
    "text_prompts = {\n",
    "    0: [\n",
    "        'clouds surround the mountains and Chinese palaces,sunshine,lake,overlook,overlook,unreal engine,light effect,Dream，Greg Rutkowski,James Gurney,artstation'\n",
    "    ]\n",
    "}\n",
    "result_out_dir = 'resources/output/text2image/tutorial_text2image_disco_res.png'\n",
    "editor.infer(text=text_prompts, result_out_dir=result_out_dir)\n",
    "\n",
    "# 绘制结果图像\n",
    "img = mmcv.imread(result_out_dir)\n",
    "plt.imshow(mmcv.bgr2rgb(img))\n",
    "plt.show()"
   ]
  },
  {
   "cell_type": "code",
   "execution_count": null,
   "id": "9563a76f-0c6f-4616-a5f0-9d4b443c7ebf",
   "metadata": {},
   "outputs": [],
   "source": []
  }
 ],
 "metadata": {
  "kernelspec": {
   "display_name": "Python 3 (ipykernel)",
   "language": "python",
   "name": "python3"
  },
  "language_info": {
   "codemirror_mode": {
    "name": "ipython",
    "version": 3
   },
   "file_extension": ".py",
   "mimetype": "text/x-python",
   "name": "python",
   "nbconvert_exporter": "python",
   "pygments_lexer": "ipython3",
   "version": "3.7.10"
  }
 },
 "nbformat": 4,
 "nbformat_minor": 5
}
